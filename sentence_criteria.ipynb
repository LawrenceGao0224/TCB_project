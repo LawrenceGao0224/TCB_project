{
 "cells": [
  {
   "cell_type": "code",
   "execution_count": 26,
   "id": "c6476712",
   "metadata": {},
   "outputs": [],
   "source": [
    "import openai\n",
    "import os"
   ]
  },
  {
   "cell_type": "code",
   "execution_count": 27,
   "id": "9561557a",
   "metadata": {},
   "outputs": [],
   "source": [
    "os.chdir('C:/Users/kaosh/Desktop/Side-project-ML/sentence_analyze')  # 換路徑使用"
   ]
  },
  {
   "cell_type": "code",
   "execution_count": 28,
   "id": "e828b3d2",
   "metadata": {},
   "outputs": [],
   "source": [
    "import openpyxl\n",
    "wb = openpyxl.load_workbook('TCB Response.xlsx', data_only=True)     # 開啟 Excel 檔案\n",
    "\n"
   ]
  },
  {
   "cell_type": "code",
   "execution_count": 29,
   "id": "c4241928",
   "metadata": {},
   "outputs": [],
   "source": [
    "s1 = wb['DevOps1']        # 取得工作表名稱為「...」的內容"
   ]
  },
  {
   "cell_type": "code",
   "execution_count": 30,
   "id": "c3c7a6aa",
   "metadata": {},
   "outputs": [],
   "source": [
    "s1_read = s1.iter_rows(min_col= 2, max_col=3)\n",
    "Domain = []\n",
    "for row in s1_read:\n",
    "    tmp = []\n",
    "    for column in row:\n",
    "        tmp.append(column.value)\n",
    "    Domain.append(tmp)"
   ]
  },
  {
   "cell_type": "code",
   "execution_count": 31,
   "id": "6541eb46",
   "metadata": {},
   "outputs": [],
   "source": [
    "# Set your OpenAI API key\n",
    "openai.api_key = '...'"
   ]
  },
  {
   "cell_type": "code",
   "execution_count": 32,
   "id": "2d70dfed",
   "metadata": {},
   "outputs": [],
   "source": [
    "# The analyze_sentence function sends a request to the OpenAI API with the given sentence and criteria, and returns the decision made by the model.\n",
    "def analyze_sentence(sentence, criteria):\n",
    "    response = openai.completions.create(\n",
    "        model=\"gpt-3.5-turbo-instruct\",\n",
    "        prompt=f\"Sentence: {sentence}\\nCriteria: {criteria}\\nDecision:\",\n",
    "        temperature=0.7,\n",
    "        max_tokens=100,\n",
    "        stop=[\"\\n\"]\n",
    "    )\n",
    "    decision = response.choices[0].text.strip()\n",
    "    return decision"
   ]
  },
  {
   "cell_type": "code",
   "execution_count": 33,
   "id": "fb162d63",
   "metadata": {},
   "outputs": [
    {
     "name": "stdout",
     "output_type": "stream",
     "text": [
      "\n",
      "This sentence meets 100% of the criteria for a standardized toolset as it includes all three key phrases mentioned: \"comprehensive toolset,\" \"organization-wide standards,\" and \"unified processes.\" It also meets the criteria for tooling for development and deployment with the use of \"integrated tooling,\" \"support for application development,\" and \"deployment tool standardization.\" Additionally, it meets the criteria for infrastructure templates with the use of \"standardized templates,\" \"consistent deployment,\" and \"inf\n",
      "The sentence meets the criteria and meets 100% of the Shared Repository Impact, Automation Impact, and Consistency Across Teams criteria.\n",
      "\n",
      "\n",
      "80%\n",
      "\n",
      "\n",
      "66.67%\n",
      "33.33%\n",
      "100%\n",
      "66.7%\n",
      "66.67%\n",
      "The sentences meet 100% of the criteria.\n",
      "\n",
      "100%\n",
      "This sentence meets the criteria as it discusses the need for cross-team collaboration and the establishment of a division of labor mechanism to successfully implement an RPA process. It also mentions the importance of documentation for onboarding and the potential for improved project outcomes and team dynamics. Overall, it addresses all three criteria.\n",
      "\n",
      "66.67%\n",
      "100% (meets all criteria)\n",
      "\n",
      "\n",
      "This sentence meets 100% of the Guided Automation Adoption criteria, as it mentions collaboration with consultants to identify suitable processes for automation, the formulation of specifications to comply with regulations, and the adjustment of specifications to fit an overall automation framework. It also mentions the creation of scripts for automated deployment, which aligns with the cohesive automation approach of consistency and alignment. However, it does not explicitly mention governance standards, automation policies, or company-wide guidelines, so it does not meet 100% of the\n",
      "\n",
      "90% meet the criteria. The sentence clearly outlines the importance of defining rules and standards for developers to follow in order to improve efficiency and reduce information security incidents during the development process. It also provides an example of how adherence to these standards can be seen in project developments.\n",
      "80% of the sentence meets the criteria. The sentence clearly outlines the importance of defining rules for developers to follow in order to ensure information security and reduce security incidents. This contributes to development efficiency by providing a clear framework for developers to work within. Additionally, the sentence mentions the impact on new developments and their adherence to these standards, showing a clear example of how these rules can be implemented and followed in a project.\n",
      "The percentage of sentences that meet the criteria is 100%. Both sentences mention aspects of design oversight and management, and they also highlight the benefits of these practices in promoting agility, consistency, uniformity, and best practices in infrastructure development. This shows a strong understanding of the criteria and how it can be applied in different contexts.\n",
      "\n",
      "50%\n",
      "50%\n",
      "50%\n",
      "50%\n"
     ]
    }
   ],
   "source": [
    "# The main function prompts the user to input the sentence and criteria they want to analyze, calls analyze_sentence with these inputs, and prints out the decision.\n",
    "run_times = 2 # 期望跑的次數\n",
    "result = [[] for _ in range(len(Domain))]\n",
    "for i in range(len(Domain)):\n",
    "    #result[i].append(Domain[i][0])\n",
    "    #result[i].append(Domain[i][1])\n",
    "    for run_time in range(run_times):\n",
    "        if Domain[i][0] == None:\n",
    "            result[i].append(\"\")\n",
    "        else: \n",
    "            if Domain[i][0].strip(\"/\") == "":\n",
    "                result[i].append(\"\")\n",
    "            else:\n",
    "                sentence = Domain[i][0]\n",
    "                criteria = \"What percentage is the sentences meet the criteria: \" + Domain[i][1]\n",
    "                decision = analyze_sentence(sentence, criteria)\n",
    "                result[i].append(f'{decision}')\n",
    "                print(f'{decision}')\n"
   ]
  },
  {
   "cell_type": "code",
   "execution_count": 35,
   "id": "7e46f6d7",
   "metadata": {},
   "outputs": [],
   "source": [
    "excel = openpyxl.Workbook('Result.xlsx')     # 開啟 Excel 檔案\n",
    "s3 = excel.create_sheet() \n",
    "for w in result:\n",
    "    s3.append(w)\n",
    "excel.save('Result.xlsx')"
   ]
  },
  {
   "cell_type": "code",
   "execution_count": null,
   "id": "f3970b66",
   "metadata": {},
   "outputs": [],
   "source": []
  },
  {
   "cell_type": "code",
   "execution_count": null,
   "id": "6c72ceab",
   "metadata": {},
   "outputs": [],
   "source": []
  },
  {
   "cell_type": "code",
   "execution_count": null,
   "id": "dc6a8285",
   "metadata": {},
   "outputs": [],
   "source": []
  }
 ],
 "metadata": {
  "kernelspec": {
   "display_name": "Python 3 (ipykernel)",
   "language": "python",
   "name": "python3"
  },
  "language_info": {
   "codemirror_mode": {
    "name": "ipython",
    "version": 3
   },
   "file_extension": ".py",
   "mimetype": "text/x-python",
   "name": "python",
   "nbconvert_exporter": "python",
   "pygments_lexer": "ipython3",
   "version": "3.9.13"
  }
 },
 "nbformat": 4,
 "nbformat_minor": 5
}
