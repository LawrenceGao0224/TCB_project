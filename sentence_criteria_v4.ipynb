{
 "cells": [
  {
   "cell_type": "code",
   "execution_count": 53,
   "id": "c6476712",
   "metadata": {
    "scrolled": false
   },
   "outputs": [],
   "source": [
    "import openai\n",
    "import os\n",
    "import re"
   ]
  },
  {
   "cell_type": "code",
   "execution_count": 54,
   "id": "9561557a",
   "metadata": {},
   "outputs": [],
   "source": [
    "os.chdir('C:/Users/kaosh/Desktop/Side-project-ML/sentence_analyze')  # Change to your own path"
   ]
  },
  {
   "cell_type": "code",
   "execution_count": 55,
   "id": "e828b3d2",
   "metadata": {},
   "outputs": [],
   "source": [
    "import openpyxl\n",
    "wb = openpyxl.load_workbook('TCB Response_criteria.xlsx', data_only=True)     # Open Excel file\n",
    "\n",
    "Domain = 'Innovation'"
   ]
  },
  {
   "cell_type": "code",
   "execution_count": 56,
   "id": "c4241928",
   "metadata": {},
   "outputs": [],
   "source": [
    "s1 = wb[Domain+\"1\"]        # Get the worksheet content"
   ]
  },
  {
   "cell_type": "code",
   "execution_count": 57,
   "id": "c3c7a6aa",
   "metadata": {},
   "outputs": [],
   "source": [
    "# Store all Capabilities in an array\n",
    "s1_capability_read = s1.iter_rows(max_col=1)\n",
    "capability_read = []\n",
    "for row in s1_capability_read:\n",
    "    tmp = []\n",
    "    for column in row:\n",
    "        tmp.append(column.value)\n",
    "    capability_read.append(tmp)\n",
    "\n",
    "# Store all questions in an array\n",
    "s1_question_read = s1.iter_rows(min_col=2, max_col=2)\n",
    "question_read = []\n",
    "for row in s1_question_read:\n",
    "    tmp = []\n",
    "    for column in row:\n",
    "        tmp.append(column.value)\n",
    "    question_read.append(tmp)\n",
    "\n",
    "# Store all answer \n",
    "s1_answer_read = s1.iter_rows(min_col=3, max_col=3)\n",
    "answer_read = []\n",
    "for row in s1_answer_read:\n",
    "    tmp = []\n",
    "    for column in row:\n",
    "        tmp.append(column.value)\n",
    "    answer_read.append(tmp)\n",
    "    \n",
    "# Store all criteria in an array\n",
    "s1_criteria_read = s1.iter_rows(min_col=4, max_col=4)\n",
    "criteria_read = []\n",
    "for row in s1_criteria_read:\n",
    "    tmp = []\n",
    "    for column in row:\n",
    "        tmp.append(column.value)\n",
    "    criteria_read.append(tmp)\n"
   ]
  },
  {
   "cell_type": "code",
   "execution_count": 58,
   "id": "6541eb46",
   "metadata": {},
   "outputs": [],
   "source": [
    "# Set your OpenAI API key\n",
    "openai.api_key = '...'"
   ]
  },
  {
   "cell_type": "code",
   "execution_count": 59,
   "id": "2d70dfed",
   "metadata": {},
   "outputs": [],
   "source": [
    "# The analyze_sentence function sends a request to the OpenAI API with the given sentence and criteria, and returns the decision made by the model.\n",
    "def analyze_sentence(sentence, criteria):\n",
    "    response = openai.completions.create(\n",
    "        model=\"gpt-3.5-turbo-instruct\",\n",
    "        prompt=f\"Sentence: {sentence}\\nCriteria: {criteria}\\nDecision:\",\n",
    "        temperature=0.5,\n",
    "        max_tokens=100,\n",
    "        stop=[\"\\n\"]\n",
    "    )\n",
    "    decision = response.choices[0].text.strip()\n",
    "    return decision"
   ]
  },
  {
   "cell_type": "code",
   "execution_count": 60,
   "id": "bdab9892",
   "metadata": {},
   "outputs": [],
   "source": [
    "def summarize_paragraph(paragraph):\n",
    "    # Use the completion endpoint to summarize the paragraph\n",
    "    response = openai.completions.create(\n",
    "      model=\"gpt-3.5-turbo-instruct\",\n",
    "      prompt=f\"Write a concise summary of the following: {paragraph}\",\n",
    "      max_tokens=100,\n",
    "      temperature=0.5,\n",
    "      top_p=0,\n",
    "      frequency_penalty=0,\n",
    "      presence_penalty=0\n",
    "    )\n",
    "    \n",
    "    # Extract and return the summarized text from the response\n",
    "    return response.choices[0].text.strip()"
   ]
  },
  {
   "cell_type": "code",
   "execution_count": 61,
   "id": "96ff738e",
   "metadata": {},
   "outputs": [],
   "source": [
    "# Find out all keywords of the criteria\n",
    "def criteria_keywords(criteria):\n",
    "    response = openai.completions.create(\n",
    "      model=\"gpt-3.5-turbo-instruct\",\n",
    "      prompt=f\"Find keyword or key information of the following: {criteria}\",\n",
    "      max_tokens=100,\n",
    "      temperature=0.5,\n",
    "      top_p=0,\n",
    "      frequency_penalty=0,\n",
    "      presence_penalty=0\n",
    "    )\n",
    "    \n",
    "    return response.choices[0].text.strip()"
   ]
  },
  {
   "cell_type": "code",
   "execution_count": 62,
   "id": "09e2e094",
   "metadata": {},
   "outputs": [],
   "source": [
    "def Average(lst): \n",
    "    return sum(lst) / len(lst)"
   ]
  },
  {
   "cell_type": "code",
   "execution_count": 63,
   "id": "24b77781",
   "metadata": {},
   "outputs": [
    {
     "name": "stdout",
     "output_type": "stream",
     "text": [
      "Keyword: Active Integration, Discovery and Learning Process, Cloud Technology Integration, New Technologies, Proactive, Leveraging, Robust, Learning Programs, Discovery Programs, Metrics, Successful Integration, Cloud Features.\n",
      "Keyword: Structured Deployment Process, Cloud Technologies, Effective Use, Impact, Adoption, Processes, Incubate, Structured Programs, Idea Discovery, Full Deployment, Cloud Innovations.\n",
      "Keyword: Clearly Defined Strategy, Communication, Departmental Understanding, Innovation Strategy, Executive Buy-in, Strategic Alignment, Execution, Innovation Vision, Fully Supported, Unified Approach.\n",
      "Keyword: Integration, Feedback Loop, Insights, Improve, Innovation Functions, Daily Operations, Meetings, Impact, Closed Feedback Loop, Data Insights, Refine, Improve.\n",
      "Keyword: Departmental involvement, investment strategies, evaluation process, organizational approach, startup evaluation, multiple departments, structured investment program, criteria, strategic, profitable selections.\n",
      "Keyword/key information: Centralized idea capture, management, encouragement, employee ideas, idea management process, fostering innovation, teams, centralized idea capturing tool, regular idea sharing, localized teams, culture of innovation, collaboration.\n",
      "Keyword: Formalized Evaluation Criteria, Process, Idea Evaluation, Selection, Recurring Evaluation Sessions, Examples, Incubation, Monthly Sessions, Nurture, Innovative Ideas, Continuous Pipeline, Creativity.\n",
      "Keyword: Implementation of Standards, Resilience, Scalability, Projects, Application, Impact, Project Outcomes, Organization, Adheres, Developing, Loosely Coupled Applications, Mature Containerization, Extensive Service Architecture.\n",
      "Keyword: Design Thinking, Customer Empathy, Development, Hypothesis Testing, Lean Hypothesis, Projects, Customer-facing Applications, Metrics, Validate, Customer Needs.\n",
      "Keyword: Automation framework, Efficiency, Consistency, Cloud platform deployments, Standardized deployment, Impact, Deployment processes, Infrastructure, Repeatable, Efficient, Multiple, Cloud platforms.\n",
      "Keyword: Designated Innovation Managers, Utilization, Principles, Roadmaps, Innovation Management, Achieving, Innovation Objectives, Multiple Managers, Organization, Dedicated, Unified, Visions, Operational Success.\n",
      "Keyword: Regular Funding Allocation, Support for Innovative Activities, Funding Impact, Innovation, Business Units, Creative Culture, Experimentation.\n",
      "Keyword: KPIs, Standardization, Management, Compensation, Goal-setting, Influence, Innovation, Metrics, Organizational culture.\n"
     ]
    }
   ],
   "source": [
    "keywords_array = []\n",
    "for i in range(0, len(criteria_read), 2):\n",
    "    keywords = criteria_keywords(criteria_read[i])\n",
    "    print(keywords)\n",
    "    keywords_array.append(keywords)\n",
    "    keywords_array.append(keywords)"
   ]
  },
  {
   "cell_type": "code",
   "execution_count": 64,
   "id": "fb162d63",
   "metadata": {},
   "outputs": [
    {
     "name": "stdout",
     "output_type": "stream",
     "text": [
      "72.5\n",
      "Approximately 80% of the sentences meet the criteria, discussing active integration, discovery and learning process, cloud technology integration, leveraging new technologies, robust learning programs, and successful integration. However, some sentences do not directly mention all of the keywords, such as proactive approach, metrics, and specific cloud features.\n",
      "83.75\n",
      "The sentences cover the majority of the criteria, including a defined strategy, communication through various methods, departmental understanding, executive buy-in and support, strategic alignment, and execution. The only aspect that may be missing is a specific mention of the innovation vision, but it can be inferred from the mention of the cloud vision and strategy. Overall, the sentences effectively convey the importance of clear communication and support for the innovation strategy.\n",
      "87.0\n",
      "Approximately 90% of the sentences meet the criteria by mentioning the integration of feedback loops, data insights, and regular meetings to continuously improve and refine the system and its operations. The importance of cross-departmental discussions and the impact of a closed feedback loop on daily operations are also mentioned. While not all sentences explicitly mention the concept of innovation functions, it can be inferred from the overall focus on improving and refining the system. Overall, the sentences effectively convey the importance of utilizing feedback and data\n",
      "73.33333333333333\n",
      "The sentences meet the criteria as they mention the importance of evaluating plans and strategies, involving multiple departments and industry experts, and ensuring alignment with organizational goals. However, some keywords such as \"structured investment program\" and \"profitable selections\" are not explicitly mentioned in the sentences.\n",
      "78.88888888888889\n",
      "The sentences meet 80% of the criteria. They mention the key information of centralized idea capture, management, encouragement of employee ideas, fostering innovation, teams, and regular idea sharing. However, they do not mention a specific idea management process or a centralized idea capturing tool. Additionally, the concept of localized teams and a culture of innovation is only implied, not explicitly stated.\n",
      "76.0\n",
      "90% of the sentences meet the criteria by discussing the formalized evaluation process, idea evaluation and selection, recurring evaluation sessions, examples of current practices, and the importance of nurturing and continuously evaluating innovative ideas to maintain a continuous pipeline of creativity. The only aspect not explicitly mentioned is monthly evaluation sessions, but this could be inferred from the mention of recurring and continuous evaluation. Overall, the sentences effectively address the criteria and provide a comprehensive understanding of the idea evaluation and selection process.\n",
      "78.75\n",
      "This sentence meets 70% of the criteria, as it mentions design thinking, development, hypothesis testing, and validating customer needs, but does not include any information about customer empathy, lean hypothesis, projects, customer-facing applications, metrics, or the process of conducting interviews and user testing.\n",
      "40.375\n",
      "50% of the sentences meet the criteria. The sentences mentioning \"Unified guiding principles\" and \"Regular follow-up reports\" align with the criteria, while the sentences mentioning \"Seminar\" and \"No unified guiding principles\" do not directly align with the criteria. Additionally, the sentences do not explicitly mention \"Designated Innovation Managers\", \"Utilization\", \"Roadmaps\", \"Innovation Management\", \"Achieving\", \"Multiple Managers\", \"Organization\", \"Dedicated\", \"Unified\", or \"\n",
      "100.0\n",
      "The sentences meet all criteria by 100% and describe the process of regular funding allocation, support for innovation, and tracking the impact of funding on business units and creative culture through experimentation. This includes regular budget preparation and execution, support for innovative activities, tracking of benefits and impact, and promoting a creative culture. These are essential components of funding allocation and innovation support in business units.\n"
     ]
    }
   ],
   "source": [
    "# The main function prompts the user to input the sentence and criteria they want to analyze, calls analyze_sentence with these inputs, and prints out the decision.\n",
    "run_times = 10 # 期望跑的次數\n",
    "result = [[] for _ in range(len(answer_read)+1)]\n",
    "result[0].append(\"Capability\")\n",
    "result[0].append(\"Questions\")\n",
    "result[0].append(\"All Answers concatenate\")\n",
    "result[0].append(\"Criteria\")\n",
    "result[0].append(\"Keywords of criteria\")\n",
    "for run_time in range(run_times):\n",
    "    result[0].append(str(run_time + 1))\n",
    "result[0].append(\"Average Score\")\n",
    "result[0].append(\"Final Justification\")\n",
    "for i in range(len(answer_read)):\n",
    "    result[i+1].append(capability_read[i][0]) # Put capability array in result\n",
    "    result[i+1].append(question_read[i][0]) # Put Questions array in result\n",
    "    result[i+1].append(answer_read[i][0])   # Put all answer array in result\n",
    "    result[i+1].append(criteria_read[i][0])   # Put all criteria array in result \n",
    "    result[i+1].append(keywords_array[i])   # Put all keywords array in result \n",
    "    \n",
    "    All_justification = \"\" # Store all justification made by GPT\n",
    "    for run_time in range(run_times):\n",
    "        if answer_read[i][0] == None:\n",
    "            result[i+1].append(\"\")\n",
    "        else: \n",
    "            if answer_read[i][0].strip(\"/\") == \"\":\n",
    "                result[i+1].append(\"\")\n",
    "            else:\n",
    "                sentence = answer_read[i][0]\n",
    "                criteria = \"What percentage is the sentences meet the criteria?\" + keywords_array[i]\n",
    "                decision = analyze_sentence(sentence, criteria)\n",
    "                result[i+1].append(f'{decision}')\n",
    "                All_justification = All_justification + f'{decision}' + \"/\" # Concatenance all justification into a paragraph \n",
    "                #print(f'{decision}')\n",
    "    temp = re.findall(r'\\d+%', All_justification)\n",
    "    res = []\n",
    "    for n in temp:\n",
    "        res.append(int(n.strip('%')))\n",
    "    if len(res) == 0:\n",
    "        result[i+1].append(\"\")\n",
    "    else:\n",
    "        result[i+1].append(Average(res))\n",
    "        print(Average(res))\n",
    "    if All_justification == \"\":\n",
    "        result[i+1].append(\"\")\n",
    "    else:\n",
    "        summary= summarize_paragraph(All_justification)\n",
    "        result[i+1].append(summary)\n",
    "        print(summary)"
   ]
  },
  {
   "cell_type": "code",
   "execution_count": 65,
   "id": "7e46f6d7",
   "metadata": {},
   "outputs": [],
   "source": [
    "# Save the results in excel '...'\n",
    "excel = openpyxl.Workbook(Domain+'_Result.xlsx')     \n",
    "s3 = excel.create_sheet() \n",
    "for w in result:\n",
    "    s3.append(w)\n",
    "excel.save(Domain+'_Result.xlsx')"
   ]
  }
 ],
 "metadata": {
  "kernelspec": {
   "display_name": "Python 3 (ipykernel)",
   "language": "python",
   "name": "python3"
  },
  "language_info": {
   "codemirror_mode": {
    "name": "ipython",
    "version": 3
   },
   "file_extension": ".py",
   "mimetype": "text/x-python",
   "name": "python",
   "nbconvert_exporter": "python",
   "pygments_lexer": "ipython3",
   "version": "3.9.13"
  }
 },
 "nbformat": 4,
 "nbformat_minor": 5
}
