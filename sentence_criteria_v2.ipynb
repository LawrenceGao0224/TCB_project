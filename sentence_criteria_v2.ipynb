{
 "cells": [
  {
   "cell_type": "code",
   "execution_count": 96,
   "id": "c6476712",
   "metadata": {},
   "outputs": [],
   "source": [
    "import openai\n",
    "import os\n",
    "import re"
   ]
  },
  {
   "cell_type": "code",
   "execution_count": 97,
   "id": "9561557a",
   "metadata": {},
   "outputs": [],
   "source": [
    "os.chdir('C:/Users/kaosh/Desktop/Side-project-ML/sentence_analyze')  # 換路徑使用"
   ]
  },
  {
   "cell_type": "code",
   "execution_count": 98,
   "id": "e828b3d2",
   "metadata": {},
   "outputs": [],
   "source": [
    "import openpyxl\n",
    "wb = openpyxl.load_workbook('TCB Response.xlsx', data_only=True)     # 開啟 Excel 檔案\n",
    "\n"
   ]
  },
  {
   "cell_type": "code",
   "execution_count": 99,
   "id": "c4241928",
   "metadata": {},
   "outputs": [],
   "source": [
    "s1 = wb['Innovation1']        # Get the worksheet content"
   ]
  },
  {
   "cell_type": "code",
   "execution_count": 100,
   "id": "c3c7a6aa",
   "metadata": {},
   "outputs": [],
   "source": [
    "# Store all answer and criteria in an array\n",
    "s1_read = s1.iter_rows(min_col= 2, max_col=3)\n",
    "Domain = []\n",
    "for row in s1_read:\n",
    "    tmp = []\n",
    "    for column in row:\n",
    "        tmp.append(column.value)\n",
    "    Domain.append(tmp)\n",
    "    \n",
    "# Store all questions in an array\n",
    "s1_question_read = s1.iter_rows(max_col=1)\n",
    "question = []\n",
    "for row in s1_question_read:\n",
    "    tmp = []\n",
    "    for column in row:\n",
    "        tmp.append(column.value)\n",
    "    question.append(tmp)\n"
   ]
  },
  {
   "cell_type": "code",
   "execution_count": 101,
   "id": "6541eb46",
   "metadata": {},
   "outputs": [],
   "source": [
    "# Set your OpenAI API key\n",
    "openai.api_key = '...'"
   ]
  },
  {
   "cell_type": "code",
   "execution_count": 102,
   "id": "2d70dfed",
   "metadata": {},
   "outputs": [],
   "source": [
    "# The analyze_sentence function sends a request to the OpenAI API with the given sentence and criteria, and returns the decision made by the model.\n",
    "def analyze_sentence(sentence, criteria):\n",
    "    response = openai.completions.create(\n",
    "        model=\"gpt-3.5-turbo-instruct\",\n",
    "        prompt=f\"Sentence: {sentence}\\nCriteria: {criteria}\\nDecision:\",\n",
    "        temperature=0.7,\n",
    "        max_tokens=100,\n",
    "        stop=[\"\\n\"]\n",
    "    )\n",
    "    decision = response.choices[0].text.strip()\n",
    "    return decision"
   ]
  },
  {
   "cell_type": "code",
   "execution_count": 103,
   "id": "bdab9892",
   "metadata": {},
   "outputs": [],
   "source": [
    "def summarize_paragraph(paragraph):\n",
    "    # Use the completion endpoint to summarize the paragraph\n",
    "    response = openai.completions.create(\n",
    "      model=\"gpt-3.5-turbo-instruct\",\n",
    "      prompt=f\"Write a concise summary of the following: {paragraph}\",\n",
    "      max_tokens=100,\n",
    "      temperature=0.5,\n",
    "      top_p=1,\n",
    "      frequency_penalty=0,\n",
    "      presence_penalty=0\n",
    "    )\n",
    "    \n",
    "    # Extract and return the summarized text from the response\n",
    "    return response.choices[0].text.strip()"
   ]
  },
  {
   "cell_type": "code",
   "execution_count": 104,
   "id": "09e2e094",
   "metadata": {},
   "outputs": [],
   "source": [
    "def Average(lst): \n",
    "    return sum(lst) / len(lst)"
   ]
  },
  {
   "cell_type": "code",
   "execution_count": 105,
   "id": "fb162d63",
   "metadata": {},
   "outputs": [
    {
     "name": "stdout",
     "output_type": "stream",
     "text": [
      "90%\n",
      "100%\n",
      "100%\n",
      "100%\n",
      "100%\n",
      "\n",
      "\n",
      "\n",
      "100%\n",
      "100%\n",
      "100%\n",
      "50%\n",
      "100%\n",
      "\n",
      "The data shows that for a set of 10 values, 90% of them are 100%, while the remaining 10% are split between 100% and 50%.\n",
      "\n",
      "80% of the sentences meet the criteria: Clearly Defined Strategy: Communication and departmental understanding of innovation strategy.<br>80% of the sentences meet the criteria: Executive Buy-in: Examples of strategic alignment and execution.\n",
      "70% of the sentences meet the criteria of clearly defined strategy and executive buy-in. The sentences provide examples of how communication and education through meetings and training are used to convey the cloud vision and strategy to different departments and branches. Additionally, the involvement of senior executives and the digital development council in promoting and executing the strategy further demonstrates their buy-in and alignment with the innovation strategy. However, some sentences do not directly mention the strategy, and the use of consensus camps may not be a clear indication\n",
      "100%\n",
      "80%\n",
      "50% (The sentences cover different methods of communication and the involvement of both senior executives and department heads, but there is not a clear definition of the innovation strategy or specific examples of strategic alignment and execution.)\n",
      "\n",
      "100%\n",
      "\n",
      "90%\n",
      "The sentences meet the criteria.\n",
      "90%\n",
      "This summary discusses the criteria of clearly defined strategy and executive buy-in, with examples of how communication and education are used to convey the innovation strategy to different departments and branches. It also mentions the involvement of senior executives and the digital development council in promoting and executing the strategy. However, some sentences do not directly mention the strategy and the use of consensus camps may not be a clear indication of strategic alignment and execution. Overall, the sentences meet the criteria with a 90% success rate.\n",
      "This sentence meets the criteria as it clearly describes the integration of a feedback loop in the project. The sentence also mentions the impact of the feedback loop in improving system functions and user experience. Additionally, the sentence suggests regular meetings and cross-departmental discussions to further facilitate the feedback loop integration.\n",
      "80% of the sentences meet the criteria. The first two sentences mention the use of feedback to improve system functions and compliance with regulations. The third sentence also includes the collection and evaluation of user feedback to optimize the system. However, the last sentence does not directly mention the use of feedback, although it does mention observing users' needs and providing for their use, which could potentially involve incorporating feedback. The last two sentences also mention regular meetings and cross-departmental discussions, which could be opportunities to\n",
      "100% of the sentences meet the criteria. The sentences clearly mention the use of feedback mechanism to improve system and functional operation, collect user feedback and optimize system functions to comply with specifications. The sentences also mention the use of regular meetings to track implementation progress and increase cross-departmental discussions. This shows a clear integration of feedback loop and its impact on innovation functions and daily operations.\n",
      "The sentences meet the criteria as they clearly mention the use of feedback mechanisms to improve system functions and comply with regulations. It also mentions collecting user feedback and optimizing system functions based on their needs, which is a clear example of integrating a feedback loop. Additionally, the sentences mention regular meetings and cross-departmental discussions, which show how feedback is incorporated into daily operations and decision-making processes. Overall, the sentences address the criteria of integrating a feedback loop and its impact on daily operations and meetings. Therefore,\n",
      "\n",
      "The sentences meet the criteria as it clearly mentions the use of feedback mechanism to improve the overall system and comply with regulations, as well as regularly tracking the implementation progress and making improvements based on feedback. It also mentions the importance of collecting user feedback and optimizing system functions to enhance the user experience. The mention of cross-departmental discussions shows the integration of feedback loop in daily operations and meetings. Overall, the sentences demonstrate a clear understanding of the criteria of integrating feedback loop to improve innovation functions and its impact\n",
      "The sentences meet the criteria as they mention the use of feedback to improve system functions and the need for regular meetings to observe user needs and improve user experience. They also mention cross-departmental discussions which further promotes the integration of feedback loop in the project.\n",
      "100% of the sentences meet the criteria. The sentences clearly mention the use of feedback mechanism to improve the overall system and comply with regulations, as well as tracking implementation progress and making improvements based on user feedback. The sentences also mention the need for collecting user feedback and optimizing system functions to improve the user experience, which shows a clear integration of feedback loop. Additionally, the last sentence mentions the importance of observing user needs and involving cross-departmental discussions, which further emphasizes the integration of feedback loop\n",
      "80%\n",
      "100% The sentences clearly describe how feedback is used to improve the overall system and operations, and how user feedback is collected and used to optimize the system. The mention of cross-departmental discussions also shows how feedback is integrated into regular meetings to improve innovation functions.\n",
      "80% of the sentences meet the criteria. While the first two sentences clearly demonstrate the integration of a feedback loop and its impact on daily operations, the last three sentences provide examples of how cross-departmental discussions can facilitate the integration of a feedback loop and improve innovation functions. However, the last three sentences do not explicitly mention the use of insights from feedback to drive improvements, which could have further strengthened the integration of the feedback loop. Overall, the sentences effectively showcase the integration of a feedback loop\n",
      "The sentences meet the criteria as they mention the importance of continuously collecting user feedback and using it to optimize system functions and improve user experience. They also suggest the need for cross-departmental discussions to ensure the integration of feedback in regular meetings. This shows a strong emphasis on the use of insights to improve innovation functions and the impact it can have on daily operations.\n",
      "80% of the sentences meet the criteria. The sentences clearly mention the use of feedback to improve system functions and user experience, as well as the importance of regular meetings and cross-departmental discussions to facilitate the integration of feedback loop in the project. However, the last sentence does not directly mention the use of feedback, although it does mention observing user needs and providing for their use, which could potentially involve incorporating feedback. Overall, the sentences effectively demonstrate the integration of a feedback loop and its impact on\n",
      "50% of the sentences meet the criteria. The first two sentences address the criteria of Departmental Involvement by discussing regularly evaluating implementation methods and inviting industry executives and consultants to participate in discussions. The third sentence partially addresses the criteria of Evaluation Process by mentioning the joint participation method, but does not fully discuss the organizational approach to startup evaluation.\n",
      "The sentences do not fully meet the criteria. While they mention evaluating and involving industry executives and professional consultants, they do not specifically mention involving departmental stakeholders or aligning with investment strategies. The sentences also do not provide details about the organizational approach to startup evaluation. Therefore, they do not fully meet the criteria.\n"
     ]
    },
    {
     "name": "stdout",
     "output_type": "stream",
     "text": [
      "The percentage of sentences that meet the criteria is 100%. Both sentences mention the involvement of industry executives and professional consultants in evaluating the organization's strategies and aligning with investment strategies. Additionally, the second sentence specifically mentions the evaluation process and the need to benchmark it effectively. This shows a clear focus on involving relevant departments and stakeholders in the evaluation process, aligning with investment strategies and ensuring a thorough organizational approach to startup evaluation.\n",
      "The sentences meet the criteria.\n",
      "The sentences meet the criteria as they discuss the involvement of industry executives and professional consultants in evaluating the organization's innovative ideas and aligning them with the organization's future strategies and standards. They also mention the need for regular evaluation of implementation methods to ensure alignment with mid- and long-term goals. Additionally, the last sentence addresses the limitations of the current evaluation process and the need for improvement. All of these factors show a strong focus on departmental involvement and an organized approach to startup evaluation.\n",
      "The sentences meet the criteria at 100%. Both sentences address the involvement of departments and professionals in evaluating the organization's strategies and investments, as well as the need for a thorough and effective evaluation process for startups.\n",
      "This sentence meets the criteria of Departmental Involvement and Evaluation Process, as it discusses involving industry executives and professional consultants to ensure alignment with the organization's future strategies and standards. It also mentions the current joint participation method and participants, indicating an organizational approach to startup evaluation.\n",
      "The sentences meet the criteria.\n",
      "50%\n",
      "\n",
      "\n",
      "The sentences meet the criteria for both Departmental Involvement and Evaluation Process, as they mention involving industry executives and professional consultants in discussions and evaluating the organization's innovative ideas in line with future strategies and standards.\n",
      "50% of the sentences meet the criteria for Departmental Involvement and Evaluation Process, as they discuss involving industry executives and professional consultants in evaluating the organization's strategies and aligning with investment strategies. However, they do not fully address the organizational approach to startup evaluation or the involvement of departmental stakeholders.\n",
      "80% of the sentences meet the criteria. The sentences discuss the implementation of a regular process for capturing employee ideas and rewarding them for their contributions. This suggests a centralized idea capture approach and an idea management process that encourages innovation among teams. However, the sentences do not explicitly mention the management and encouragement of employee ideas as the main focus, leading to a slight decrease in the percentage of sentences that fully meet the criteria.\n",
      "80% of the sentences meet the criteria. The first sentence clearly states the central idea of the work simplification team regularly soliciting work simplification plans. The second sentence mentions the process of selecting plans and providing bonuses, which encourages employees to share their ideas. However, the third sentence does not directly mention the management of employee ideas, so it does not fully meet the criteria. Overall, the sentences effectively convey the idea of centralized idea capture and idea management process.\n",
      "The sentence meets 100% of the criteria. It clearly mentions the company's work simplification team soliciting plans from employees and offering bonuses for selected plans, which encourages employee ideas and fosters innovation among teams.\n",
      "50%\n",
      "25%\n",
      "75%\n",
      "\n",
      "80%\n",
      "100%\n",
      "80%\n",
      "50%\n",
      "75%\n",
      "80% of the sentences discuss the implementation of a regular process for capturing employee ideas and rewarding them, suggesting a centralized approach and encouraging innovation among teams. However, the sentences do not explicitly focus on the management and encouragement of employee ideas, leading to a slight decrease in the percentage of sentences that fully meet the criteria. Overall, the sentences effectively convey the idea of centralized idea capture and management.\n",
      "The sentences meet the criteria as they mention the process for idea evaluation and selection, with the use of professional consultants and involving internal executives in the decision-making process. They also mention recurring evaluation sessions through cross-department communication and voting.\n",
      "\n",
      "75%\n",
      "The sentences meet the criteria. Both sentences mention a process for evaluating and selecting ideas and involve multiple parties in making the final decision. The first sentence specifically mentions using professional consultants and internal executives, while the second sentence mentions cross-departmental communication and presenting the final results to senior managers. Both sentences also mention the use of evaluation sessions or meetings.\n",
      "100% of the sentences meet the criteria for Formalized Evaluation Criteria and Recurring Evaluation Sessions. The sentences describe a clear process for idea evaluation and selection, involving both external experts and internal executives, as well as recurring evaluation sessions through communication and voting among cross-department members. This shows a formalized and recurring process for evaluating and selecting ideas.\n",
      "100% The sentences clearly describe a formalized evaluation process that involves multiple steps, criteria, and stakeholders. It also mentions recurring evaluation sessions, which shows a continuous and structured approach to idea selection and incubation. Both elements meet the criteria for formalized evaluation and recurring evaluation sessions.\n",
      "70%\n",
      "50%\n",
      "The sentences meet the criteria. The first sentence clearly outlines the process for idea evaluation and selection, which involves both external experts and internal executives. The second sentence provides an example of a recurring evaluation session through the use of cross-department communication and voting. Both sentences demonstrate a formalized evaluation process and recurring evaluation sessions, meeting the criteria for formalized evaluation and recurring evaluation sessions.\n",
      "100%\n",
      "75% of the sentences meet the criteria, as they describe a process for evaluating and selecting ideas, using external experts and internal executives, and presenting the final results to senior managers. However, it is unclear whether there are recurring evaluation sessions or if this is a one-time evaluation process. Additionally, the sentences do not explicitly mention formalized evaluation criteria, but the use of professional consultants and evaluation by business management unit implies some level of formalization. Overall, the sentences meet most of the criteria for\n",
      "\n",
      "Formalized Evaluation Criteria and Recurring Evaluation Sessions. They describe a process for evaluating and selecting ideas, involving multiple parties and recurring evaluation sessions. However, more information is needed to determine the level of formalization and whether the criteria are fully met.\n",
      "This sentence meets the criteria of using design thinking by incorporating customer empathy in development. However, it does not mention any specific examples of lean hypothesis application in projects, so it does not fully meet the criteria of the hypothesis testing process. Overall, it meets approximately 50% of the criteria.\n",
      "\n",
      "60%\n",
      "50% (The sentence mentions conducting user testing and adjusting non-compliant functions, which shows consideration for customer feedback and potential application of lean hypotheses. However, it does not explicitly mention customer empathy or provide specific examples of lean hypothesis application.)\n",
      "50%\n",
      "50%\n",
      "\n",
      "50% of the sentence meets the criteria. The sentence mentions conducting user testing and adjusting non-compliant functions, which could be seen as incorporating customer empathy. However, it does not specifically mention using design thinking or lean hypothesis application in the development process. A more explicit reference to these concepts would increase the percentage.\n"
     ]
    },
    {
     "name": "stdout",
     "output_type": "stream",
     "text": [
      "50%\n",
      "75%\n",
      "50%\n",
      "50% of the sentences meet the criteria. The first sentence references the process of conducting interviews and incorporating user feedback, which aligns with the use of design thinking and customer empathy. However, the second sentence does not directly mention the use of lean hypothesis testing in the project, only referencing user testing and adjustments.\n",
      "50%\n",
      "\n",
      "This sentence partially meets the criteria of using design thinking by considering customer empathy in development and conducting user testing and adjustments. However, it does not fully meet the criteria of lean hypothesis application as it does not mention specific examples. Overall, it meets 50% of the criteria.\n",
      "33.33%\n",
      "33.33%\n",
      "The sentences meet the criteria as they mention the Digital Development Committee, which serves as the designated innovation manager and regularly reports on their progress. The mention of a seminar also suggests that there is a focus on utilizing principles and roadmaps for innovation. However, without more specific information on the content of the reports or the objectives achieved, it is difficult to determine the exact percentage. It would be helpful to have more specific examples of how the Digital Development Committee has utilized principles and roadmaps, as well as specific\n",
      "0%\n",
      "Low. Only one sentence mentions the Digital Development Committee, but it is unclear if they are designated innovation managers. No mention of principles or roadmaps for innovation. No examples of achieving innovation objectives.\n",
      "0%\n",
      "33.33%\n",
      "Not enough information provided to accurately determine the percentage. Please provide complete sentences that meet the criteria.\n",
      "50%\n",
      "0%\n",
      "0%\n",
      "33% of the sentences meet the criteria.\n",
      "33.33% of the sentences mention the Digital Development Committee, which serves as the designated innovation manager and regularly reports on their progress. The mention of a seminar suggests a focus on utilizing principles and roadmaps for innovation. However, without more specific information, it is difficult to determine the exact percentage. More specific examples would be helpful. Overall, 33% of the sentences meet the criteria.\n",
      "100%\n",
      "These sentences meet the criteria as they discuss the structure and use of funding for innovation and provide examples of how the funding impacts innovative activities. Additionally, they mention the regular review and implementation of the budget, which shows a commitment to ongoing support for innovation. Overall, these sentences address both aspects of the criteria.\n",
      "66.67%\n",
      "100%\n",
      "100%\n",
      "\n",
      "100%\n",
      "100%\n",
      "The sentences meet the criteria as they mention the use of funds through budget preparation, execution, reporting, and tracking, as well as the support for innovative activities through budget allocation and implementation. They also provide examples of how funding impacts innovation through the introduction of benefits and continuous tracking.\n",
      "The sentences meet the criteria for Regular Funding Allocation and Support for Innovative Activities.\n",
      "100%\n",
      "60%\n",
      "The sentences discuss the use and structure of funding for innovation, including regular review and implementation of the budget. They also provide examples of how the funding impacts innovative activities. Overall, they address both aspects of the criteria for regular funding allocation and support for innovative activities.\n"
     ]
    }
   ],
   "source": [
    "# The main function prompts the user to input the sentence and criteria they want to analyze, calls analyze_sentence with these inputs, and prints out the decision.\n",
    "run_times = 10 # 期望跑的次數\n",
    "result = [[] for _ in range(len(Domain)+1)]\n",
    "result[0].append(\"Questions\")\n",
    "result[0].append(\"All Answers concatenate\")\n",
    "result[0].append(\"Criteria\")\n",
    "for run_time in range(run_times):\n",
    "    result[0].append(str(run_time + 1))\n",
    "result[0].append(\"Average Score\")\n",
    "result[0].append(\"Final Justification\")\n",
    "for i in range(len(Domain)):\n",
    "    result[i+1].append(question[i][0]) # Put Questions array in result\n",
    "    result[i+1].append(Domain[i][0])   # Put all answer array in result\n",
    "    result[i+1].append(Domain[i][1])   # Put all criteria array in result \n",
    "    \n",
    "    All_justification = \"\" # Store all justification made by GPT\n",
    "    for run_time in range(run_times):\n",
    "        if Domain[i][0] == None:\n",
    "            result[i+1].append(\"\")\n",
    "        else: \n",
    "            if Domain[i][0].strip(\"/\") == \"\":\n",
    "                result[i+1].append(\"\")\n",
    "            else:\n",
    "                sentence = Domain[i][0]\n",
    "                criteria = \"What percentage is the sentences meet the criteria: \" + Domain[i][1]\n",
    "                decision = analyze_sentence(sentence, criteria)\n",
    "                result[i+1].append(f'{decision}')\n",
    "                All_justification = All_justification + f'{decision}' + \"/\" # Concatenance all justification into a paragraph \n",
    "                print(f'{decision}')\n",
    "    temp = re.findall(r'\\d+%', All_justification)\n",
    "    res = []\n",
    "    for n in temp:\n",
    "        res.append(int(n.strip('%')))\n",
    "    if len(res) == 0:\n",
    "        result[i+1].append(\"\")\n",
    "    else:\n",
    "        result[i+1].append(Average(res))\n",
    "    if All_justification == \"\":\n",
    "        result[i+1].append(\"\")\n",
    "    else:\n",
    "        summary= summarize_paragraph(All_justification)\n",
    "        result[i+1].append(summary)\n",
    "        print(summary)"
   ]
  },
  {
   "cell_type": "code",
   "execution_count": 106,
   "id": "7e46f6d7",
   "metadata": {},
   "outputs": [],
   "source": [
    "excel = openpyxl.Workbook('Innovation_Result.xlsx')     # 開啟 Excel 檔案\n",
    "s3 = excel.create_sheet() \n",
    "for w in result:\n",
    "    s3.append(w)\n",
    "excel.save('Innovation_Result.xlsx')"
   ]
  },
  {
   "cell_type": "code",
   "execution_count": 107,
   "id": "f3970b66",
   "metadata": {},
   "outputs": [
    {
     "data": {
      "text/plain": [
       "'\\nimport re\\ntest_string = \"33% (1 out of 3 sentences meet the criteria.75% of the sentences meet the criteria. The sentence about cooperating with the Compliance Department may not directly contribute to scripted remediations or a unified system for audits, but it does address the importance of addressing weaknesses and handling reports in a timely and compliant manner. This overall improves compliance posture and can potentially lead to more effective scripted remediations and a more unified system for audits.75% of the sentences meet the criteria for scripted remediations and a unified system for audits. While cooperating with the Compliance Department may not directly contribute to these goals, it does emphasize the importance of addressing weaknesses and handling reports promptly and in compliance, ultimately improving overall compliance posture and potentially leading to more effective remediations and a unified audit system.)\"\\ntemp = re.findall(r\\'\\\\d+%\\', test_string)\\nprint(temp)\\nres = []\\nfor i in temp:\\n    res.append(int(i.strip(\\'%\\')))\\nprint(Average(res))\\n'"
      ]
     },
     "execution_count": 107,
     "metadata": {},
     "output_type": "execute_result"
    }
   ],
   "source": [
    "'''\n",
    "import re\n",
    "test_string = \"33% (1 out of 3 sentences meet the criteria.75% of the sentences meet the criteria. The sentence about cooperating with the Compliance Department may not directly contribute to scripted remediations or a unified system for audits, but it does address the importance of addressing weaknesses and handling reports in a timely and compliant manner. This overall improves compliance posture and can potentially lead to more effective scripted remediations and a more unified system for audits.75% of the sentences meet the criteria for scripted remediations and a unified system for audits. While cooperating with the Compliance Department may not directly contribute to these goals, it does emphasize the importance of addressing weaknesses and handling reports promptly and in compliance, ultimately improving overall compliance posture and potentially leading to more effective remediations and a unified audit system.)\"\n",
    "temp = re.findall(r'\\d+%', test_string)\n",
    "print(temp)\n",
    "res = []\n",
    "for i in temp:\n",
    "    res.append(int(i.strip('%')))\n",
    "print(Average(res))\n",
    "'''"
   ]
  },
  {
   "cell_type": "code",
   "execution_count": null,
   "id": "6c72ceab",
   "metadata": {},
   "outputs": [],
   "source": []
  },
  {
   "cell_type": "code",
   "execution_count": null,
   "id": "dc6a8285",
   "metadata": {},
   "outputs": [],
   "source": []
  }
 ],
 "metadata": {
  "kernelspec": {
   "display_name": "Python 3 (ipykernel)",
   "language": "python",
   "name": "python3"
  },
  "language_info": {
   "codemirror_mode": {
    "name": "ipython",
    "version": 3
   },
   "file_extension": ".py",
   "mimetype": "text/x-python",
   "name": "python",
   "nbconvert_exporter": "python",
   "pygments_lexer": "ipython3",
   "version": "3.9.13"
  }
 },
 "nbformat": 4,
 "nbformat_minor": 5
}
